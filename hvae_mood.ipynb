{
 "cells": [
  {
   "cell_type": "markdown",
   "metadata": {},
   "source": [
    "# HVAE MOOD"
   ]
  },
  {
   "cell_type": "markdown",
   "metadata": {},
   "source": [
    "### Loading MOOD Patches Model\n",
    "\n",
    "* What doesn't seem to work:\n",
    "    * Free nats = 2, 1 is fine for gaussian, 1 makes the logistic blow up\n",
    "    * 100 mixtures doesn't seem to help it learn more, maybe 20 would be fine?\n",
    "    * Good ELBO AUROC occurs when in gaussian with 1 nat and deterministic warmup. Maybe beta of < 1 is good for\n",
    "    OOD detection?\n",
    "    \n",
    "Ideas\n",
    "* 2.5D model, take 3D patches and randomly permute the axes of the patches during training to simulate looking at \n",
    "2D patches along all anatomical planes. A final score could be the average of those three or maybe even the\n",
    "distance between those scores.\n",
    "* KL term schedule, cycle up to a max and min every few epochs\n",
    "\n",
    "Observations:\n",
    "* Max in Sagittal: 7850 from validation set\n",
    "* Max in axial: 7770 from validation set\n",
    "* Max in coronal: 7646 --> coronal on OOD is much lower than the others (about 8996, others atleast 9000)\n",
    "* It seems that taking the min as the highest healthy LLR does not bode well under the average_precision\n",
    "metric. Driving the negatives down closest to zero as possible is not advantageous as you could miss important\n",
    "near OOD examples. The score is naturally measured agnostic of the chosen threshold, similar to the AUROC score\n",
    "* Combining sagittal, axial and coronal models seems to improve the pixel level results substaintially.\n",
    "The most successful method of combining the scores has been through computing the joint probability of the three views by taking the product of the normalized scores.\n",
    "* Decreasing the stride length doesn't seem to impact performance. Increasing does reduce it however\n",
    "* BAD - pixel predictions are leaking into the background voxels which hurts performance. Quick fix is to\n",
    "multiply by the mask of the bg to cancel out these predictions.\n",
    "    * See if large bg_tol with above works better\n",
    "\n",
    "\n",
    "Overarching Things to get done:\n",
    "* What is actually going on with the choice of the output distribution? Is the choice of the MoL actually\n",
    "provide some performance boost or is it simply overfitting?\n",
    "* Dealing with generalization on datasets, can we tune our models on the different datasets and achieve similar\n",
    "performance across the strata?\n",
    "* Fix the striding algorithm, work for odd choices of image size and stride size\n",
    "* Conditional dependence should work somehow. Need to grok the CVAEs better and combine some pertinent auxillary\n",
    "input that could augment the performance\n"
   ]
  },
  {
   "cell_type": "code",
   "execution_count": 41,
   "metadata": {},
   "outputs": [],
   "source": [
    "import os\n",
    "import matplotlib.pyplot as plt\n",
    "import matplotlib as mpl\n",
    "import seaborn as sns\n",
    "import torch\n",
    "import torchvision\n",
    "import numpy as np\n",
    "import nibabel as nib\n",
    "from skimage import exposure\n",
    "\n",
    "from sklearn.metrics import auc, roc_curve, average_precision_score, precision_recall_curve\n",
    "from tqdm import tqdm, trange\n",
    "from collections import defaultdict\n",
    "from scipy.stats import multivariate_normal\n",
    "\n",
    "import oodd\n",
    "import oodd.models\n",
    "import oodd.datasets\n",
    "import oodd.losses\n",
    "import oodd.evaluators\n",
    "import oodd.utils\n",
    "from oodd.layers.likelihoods import grayscale_log_continuous_mix_logistic\n",
    "\n",
    "\n",
    "np.set_printoptions(suppress=True)\n",
    "device = torch.device('cuda:1')\n",
    "\n",
    "mood_brain_dir = '/data/mood/brain/brain_train'\n",
    "mood_brain_mask_dir = '/data/mood/brain/toy_label/pixel'\n",
    "mood_brain_toy_dir = '/data/mood/brain/toy'\n",
    "\n",
    "mood_abdom_dir = '/data/mood/abdom/abdom_train'\n",
    "mood_abdom_mask_dir = '/data/mood/abdom/toy_label/pixel'\n",
    "mood_abdom_toy_dir = '/data/mood/abdom/toy'\n",
    "\n",
    "DEFAULT_FONTSIZE = 13\n",
    "sns.set_style('white')\n",
    "mpl.rcParams.update({\n",
    "    'font.size': DEFAULT_FONTSIZE,\n",
    "    'lines.linewidth': 2,\n",
    "    'legend.fontsize': DEFAULT_FONTSIZE,\n",
    "    'axes.labelsize': DEFAULT_FONTSIZE,\n",
    "    'xtick.labelsize': DEFAULT_FONTSIZE,\n",
    "    'ytick.labelsize': DEFAULT_FONTSIZE,\n",
    "    'figure.figsize': (7, 7.0 / 1.4),\n",
    "})\n",
    "\n",
    "\n",
    "ctx = sns.plotting_context('paper')"
   ]
  },
  {
   "cell_type": "code",
   "execution_count": 42,
   "metadata": {},
   "outputs": [],
   "source": [
    "def make_strided_patches(img, patch_size=(28, 28), stride=(4, 4), tol=0.1, bg_tol=0.):\n",
    "    \"\"\"\n",
    "    Returns a tuple of patches and coordinates given the a 2D slice of an image an optional \n",
    "    patch size and the stride length parameters.\n",
    "    \"\"\"\n",
    "    # For our case of medical images, we discard images that are purely background\n",
    "    if (img == 0).all():\n",
    "        return None\n",
    "    \n",
    "    pipeline = torchvision.transforms.Compose([\n",
    "        torchvision.transforms.ToTensor(),\n",
    "        oodd.datasets.transforms.PctileChauhan(0.05)\n",
    "    ])\n",
    "\n",
    "    def preprocess(arr, pipeline):\n",
    "        arr = arr.astype('float32')\n",
    "        return pipeline(arr)\n",
    "    \n",
    "    patches = []\n",
    "    coords = []\n",
    "    \n",
    "    x_stride = stride[0]\n",
    "    y_stride = stride[1]\n",
    "    \n",
    "    x_max = img.shape[0]\n",
    "    y_max = img.shape[1]\n",
    "    \n",
    "    n_xstrides = (x_max - patch_size[0]) // x_stride\n",
    "    n_ystrides = (y_max - patch_size[1]) // y_stride\n",
    "    for x_stride_num in range(n_xstrides + 1):\n",
    "        x_cur = x_stride_num * x_stride\n",
    "        for y_stride_num in range(n_ystrides + 1):\n",
    "            y_cur = y_stride_num * y_stride\n",
    "            y2 = y_cur + patch_size[1]\n",
    "            \n",
    "            x2 = x_cur + patch_size[0]\n",
    "            patch = img[x_cur : x2, y_cur: y2]\n",
    "            if (patch <= bg_tol).sum() < int(patch_size[0] * patch_size[0] * tol):\n",
    "                patches.append(preprocess(patch, pipeline))\n",
    "                coords.append([x_cur, x2, y_cur, y2])\n",
    "            \n",
    "    if not patches:\n",
    "        return None\n",
    "    \n",
    "    patches = torch.cat(patches).view(-1, 1, patch_size[0], patch_size[1])\n",
    "    coords = torch.tensor(coords)\n",
    "    return patches, coords\n",
    "\n",
    "def image_generator(img_paths, tol=0):\n",
    "    \"\"\"Loads numpy arrays of images from disk\"\"\"\n",
    "    for path in img_paths:\n",
    "        img = nib.load(path)\n",
    "        img_data = img.get_fdata()\n",
    "        yield img_data, tol"
   ]
  },
  {
   "cell_type": "code",
   "execution_count": 43,
   "metadata": {},
   "outputs": [],
   "source": [
    "mood_brain_paths = [os.path.join(mood_brain_dir, path) for path in os.listdir(mood_brain_dir)][502:600]\n",
    "\n",
    "# Healthy\n",
    "brain, _ = next(image_generator(mood_brain_paths))\n",
    "\n",
    "toy_brain_paths = [os.path.join(mood_brain_toy_dir, path) for path in os.listdir(mood_brain_toy_dir)][:-1]\n",
    "toy_gen = image_generator(toy_brain_paths)\n",
    "\n",
    "# These three have spherical anomalies\n",
    "toy_brain, _ = next(toy_gen)\n",
    "#toy_brain, _ = next(toy_gen)\n",
    "#toy_brain, _ = next(toy_gen)"
   ]
  },
  {
   "cell_type": "code",
   "execution_count": 44,
   "metadata": {},
   "outputs": [],
   "source": [
    "toy_mask_paths = [os.path.join(mood_brain_mask_dir, path) for path in os.listdir(mood_brain_mask_dir)][:-1]\n",
    "toy_mask_gen = image_generator(toy_mask_paths)\n",
    "toy_mask, _ = next(toy_mask_gen)\n",
    "#toy_mask, _ = next(toy_mask_gen)\n",
    "#toy_mask, _ = next(toy_mask_gen)"
   ]
  },
  {
   "cell_type": "code",
   "execution_count": 45,
   "metadata": {},
   "outputs": [],
   "source": [
    "mood_abdom_paths = [os.path.join(mood_abdom_dir, path) for path in os.listdir(mood_abdom_dir)][502:600]\n",
    "abdom, _ = next(image_generator(mood_abdom_paths))\n",
    "\n",
    "toy_abdom_paths = [os.path.join(mood_abdom_toy_dir, path) for path in os.listdir(mood_abdom_toy_dir)]#[:-1]\n",
    "toy_gen = image_generator(toy_abdom_paths)\n",
    "toy_abdom, _ = next(toy_gen)\n",
    "toy_abdom, _ = next(toy_gen)\n",
    "toy_abdom, _ = next(toy_gen)\n",
    "toy_abdom, _ = next(toy_gen)"
   ]
  },
  {
   "cell_type": "code",
   "execution_count": 46,
   "metadata": {},
   "outputs": [],
   "source": [
    "toy_abdom_mask_paths = [os.path.join(mood_abdom_mask_dir, path) for path in os.listdir(mood_abdom_mask_dir)][:-1]\n",
    "toy_abdom_mask_gen = image_generator(toy_abdom_mask_paths)\n",
    "toy_abdom_mask, _ = next(toy_abdom_mask_gen)\n",
    "#toy_mask, _ = next(toy_mask_gen)\n",
    "#toy_mask, _ = next(toy_mask_gen)"
   ]
  },
  {
   "cell_type": "code",
   "execution_count": 47,
   "metadata": {},
   "outputs": [
    {
     "data": {
      "image/png": "[encoded data removed]",
      "text/plain": [
       "<Figure size 504x360 with 1 Axes>"
      ]
     },
     "metadata": {},
     "output_type": "display_data"
    }
   ],
   "source": [
    "with sns.plotting_context('paper') as ctx:\n",
    "    plt.imshow(brain[:, :, 180], cmap='gray')\n",
    "    plt.axis('off')"
   ]
  },
  {
   "cell_type": "code",
   "execution_count": 48,
   "metadata": {},
   "outputs": [
    {
     "data": {
      "text/plain": [
       "(-0.5, 255.5, 255.5, -0.5)"
      ]
     },
     "execution_count": 48,
     "metadata": {},
     "output_type": "execute_result"
    },
    {
     "data": {
      "image/png": "[encoded data removed]",
      "text/plain": [
       "<Figure size 504x360 with 1 Axes>"
      ]
     },
     "metadata": {},
     "output_type": "display_data"
    }
   ],
   "source": [
    "plt.imshow(toy_brain[:, :, 180], cmap='gray')\n",
    "plt.axis('off')"
   ]
  },
  {
   "cell_type": "code",
   "execution_count": 50,
   "metadata": {},
   "outputs": [],
   "source": [
    "checkpoint_axial = oodd.models.Checkpoint(path='./models/mood_10mix_1000epochs_no-cool_no-nats')\n",
    "#checkpoint_abdom = oodd.models.Checkpoint(path='./models/mood_abdom_10-mix_500-epochs_no-nats_no-cooldown')\n",
    "checkpoint_abdom = oodd.models.Checkpoint(path='./models/abdom_axial_small_latent')\n",
    "checkpoint_sagittal = oodd.models.Checkpoint(path='./models/mood_brain_sagittal_10-mix_1000-epochs_no-cool_no-nats')\n",
    "checkpoint_coronal = oodd.models.Checkpoint(path='./models/mood_brain_coronal_10-mix_1000-epochs_no-cool_no-nats')\n",
    "checkpoint_gaussian = oodd.models.Checkpoint(path='./models/mood_brain_axial_gaussian_1000-epochs_1-nat_200-cooldown')\n",
    "#checkpoint = oodd.models.Checkpoint(path='./models/mood_abdom_10-mix_150-epochs_no-nats_no-cooldown')\n",
    "\n",
    "checkpoint_axial.load_model()\n",
    "model_axial = checkpoint_axial.model\n",
    "model_axial.eval()\n",
    "model_axial.to(device)\n",
    "\n",
    "checkpoint_sagittal.load_model()\n",
    "model_sagittal = checkpoint_sagittal.model\n",
    "model_sagittal.eval()\n",
    "model_sagittal.to(device)\n",
    "\n",
    "checkpoint_coronal.load_model()\n",
    "model_coronal = checkpoint_coronal.model\n",
    "model_coronal.eval()\n",
    "model_coronal.to(device)\n",
    "\n",
    "checkpoint_abdom.load_model()\n",
    "model_abdom = checkpoint_abdom.model\n",
    "model_abdom.eval()\n",
    "model_abdom.to(device)\n",
    "\n",
    "checkpoint_gaussian.load_model()\n",
    "model_gaussian = checkpoint_gaussian.model\n",
    "model_gaussian.eval()\n",
    "model_gaussian.to(device)\n",
    "\n",
    "models = {'axial': model_axial, 'sagittal': model_sagittal, 'coronal': model_coronal}\n",
    "models_abdom = {'axial': model_abdom}\n",
    "criterion = oodd.losses.ELBO()"
   ]
  },
  {
   "cell_type": "code",
   "execution_count": 51,
   "metadata": {},
   "outputs": [
    {
     "name": "stderr",
     "output_type": "stream",
     "text": [
      "<ipython-input-51-20977954063d>:2: UserWarning: To copy construct from a tensor, it is recommended to use sourceTensor.clone().detach() or sourceTensor.clone().detach().requires_grad_(True), rather than torch.tensor(sourceTensor).\n",
      "  dataset = torch.utils.data.TensorDataset(stride_gen, torch.tensor(coords))\n"
     ]
    }
   ],
   "source": [
    "stride_gen, coords = make_strided_patches(brain[:, :, 128])\n",
    "dataset = torch.utils.data.TensorDataset(stride_gen, torch.tensor(coords))"
   ]
  },
  {
   "cell_type": "code",
   "execution_count": 52,
   "metadata": {},
   "outputs": [
    {
     "data": {
      "text/plain": [
       "<matplotlib.image.AxesImage at 0x7f4b641d9be0>"
      ]
     },
     "execution_count": 52,
     "metadata": {},
     "output_type": "execute_result"
    },
    {
     "data": {
      "image/png": "[encoded data removed]",
      "text/plain": [
       "<Figure size 504x360 with 1 Axes>"
      ]
     },
     "metadata": {},
     "output_type": "display_data"
    }
   ],
   "source": [
    "x1, x2, y1, y2 = coords[0]\n",
    "plt.imshow(brain[:, :, 128][x1:x2, y1:y2])"
   ]
  },
  {
   "cell_type": "code",
   "execution_count": 53,
   "metadata": {},
   "outputs": [
    {
     "data": {
      "text/plain": [
       "<matplotlib.image.AxesImage at 0x7f4b641a96d0>"
      ]
     },
     "execution_count": 53,
     "metadata": {},
     "output_type": "execute_result"
    },
    {
     "data": {
      "image/png": "[encoded data removed]",
      "text/plain": [
       "<Figure size 504x360 with 1 Axes>"
      ]
     },
     "metadata": {},
     "output_type": "display_data"
    }
   ],
   "source": [
    "plt.imshow(brain[:, :, 128])"
   ]
  },
  {
   "cell_type": "code",
   "execution_count": 54,
   "metadata": {},
   "outputs": [
    {
     "data": {
      "text/plain": [
       "<matplotlib.image.AxesImage at 0x7f4b640f8400>"
      ]
     },
     "execution_count": 54,
     "metadata": {},
     "output_type": "execute_result"
    },
    {
     "data": {
      "image/png": "[encoded data removed]",
      "text/plain": [
       "<Figure size 504x360 with 1 Axes>"
      ]
     },
     "metadata": {},
     "output_type": "display_data"
    }
   ],
   "source": [
    "plt.imshow(toy_brain[:, :, 60])"
   ]
  },
  {
   "cell_type": "code",
   "execution_count": 58,
   "metadata": {},
   "outputs": [],
   "source": [
    "# iw_samples_elbo = 1\n",
    "# iw_samples_Lk = 1\n",
    "# batch_size = 256\n",
    "# n_latents_skip = 2\n",
    "# n_eval_examples = float(\"inf\")\n",
    "# \n",
    "# SCORES = defaultdict(list)\n",
    "# \n",
    "# def get_decode_from_p(n_latents, k=0, semantic_k=True):\n",
    "#     \"\"\"\n",
    "#     k semantic out\n",
    "#     0 True     [False, False, False]\n",
    "#     1 True     [True, False, False]\n",
    "#     2 True     [True, True, False]\n",
    "#     0 False    [True, True, True]\n",
    "#     1 False    [False, True, True]\n",
    "#     2 False    [False, False, True]\n",
    "#     \"\"\"\n",
    "#     if semantic_k:\n",
    "#         return [True] * k + [False] * (n_latents - k)\n",
    "# \n",
    "#     return [False] * (k + 1) + [True] * (n_latents - k - 1)\n",
    "# \n",
    "# def get_lengths(dataloaders):\n",
    "#     return [len(loader) for name, loader in dataloaders.items()]\n",
    "# \n",
    "# voxel_scores = []\n",
    "# means = []\n",
    "# stride = (4, 4)\n",
    "# tol = 0.05\n",
    "# bg_tol = 0\n",
    "# \n",
    "# img = toy_brain\n",
    "# \n",
    "# for plane in models:\n",
    "#     model = models[plane]\n",
    "#     score_mask = np.full((256, 256, 256), 0., dtype='float32')\n",
    "#     #score_mask = np.full((512, 512, 512), 0., dtype='float32')\n",
    "#     #score_mask = np.full((256, 256, 256, 50), 0., dtype='float32')\n",
    "#     #score_mask = np.empty((256, 256, 256, 50), dtype='object')\n",
    "#     #for i, row in enumerate(score_mask):\n",
    "#     #    for j, col in enumerate(row):\n",
    "#     #        for z, width in enumerate(col):\n",
    "#     #            score_mask[i, j, z] = []\n",
    "#     #mean_mask = np.full((512, 512, 512), 0.)\n",
    "#     mean_mask = np.full((256, 256, 256), 0.)\n",
    "# \n",
    "#     for z in trange(img.shape[-1]):\n",
    "#         if plane == 'axial':\n",
    "#             strided_patches = make_strided_patches(img[:, :, z], stride=stride, tol=tol, bg_tol=bg_tol)\n",
    "#         elif plane == 'sagittal':\n",
    "#             strided_patches = make_strided_patches(img[z, :, :], stride=stride, tol=tol, bg_tol=bg_tol)\n",
    "#         elif plane == 'coronal':\n",
    "#             strided_patches = make_strided_patches(img[:, z, :], stride=stride, tol=tol, bg_tol=bg_tol)\n",
    "#         if strided_patches:\n",
    "#             stride_gen, coords = strided_patches \n",
    "#         else:\n",
    "#             continue\n",
    "#         dataset = torch.utils.data.TensorDataset(stride_gen, coords)\n",
    "#         loader = torch.utils.data.DataLoader(dataset, batch_size=batch_size)\n",
    "# \n",
    "#         #n_test_batches = get_lengths(datamodule.val_datasets) + get_lengths(datamodule.test_datasets)\n",
    "#         #N_EQUAL_EXAMPLES_CAP = min(n_test_batches)\n",
    "#         #assert N_EQUAL_EXAMPLES_CAP % batch_size == 0, \"Batch size must divide smallest dataset size\"\n",
    "#         #N_EQUAL_EXAMPLES_CAP = min([n_eval_examples, N_EQUAL_EXAMPLES_CAP])\n",
    "# \n",
    "#         decode_from_p = get_decode_from_p(model.n_latents, k=n_latents_skip)\n",
    "# \n",
    "#         scores = defaultdict(list)\n",
    "#         elbos = defaultdict(list)\n",
    "#         elbos_k = defaultdict(list)\n",
    "#         with torch.no_grad():\n",
    "#             n = 0\n",
    "#             for b, (x, coord) in enumerate(loader):\n",
    "#                 x = x.to(device)\n",
    "#                 n += x.shape[0]\n",
    "#                 sample_elbos, sample_elbos_k = [], []\n",
    "# \n",
    "#                 # Regular ELBO\n",
    "#                 for i in range(iw_samples_elbo):\n",
    "#                     likelihood_data, stage_datas = model(x, decode_from_p=False, use_mode=False)\n",
    "#                     kl_divergences = [\n",
    "#                         stage_data.loss.kl_elementwise\n",
    "#                         for stage_data in stage_datas\n",
    "#                         if stage_data.loss.kl_elementwise is not None\n",
    "#                     ]\n",
    "#                     loss, elbo, likelihood, kl_divergences = criterion(\n",
    "#                         likelihood_data.likelihood,\n",
    "#                         kl_divergences,\n",
    "#                         samples=1,\n",
    "#                         free_nats=0,\n",
    "#                         beta=1,\n",
    "#                         sample_reduction=None,\n",
    "#                         batch_reduction=None,\n",
    "#                     )\n",
    "#                     sample_elbos.append(elbo.detach())\n",
    "# \n",
    "#                 # L>k bound\n",
    "#                 for i in range(iw_samples_Lk):\n",
    "#                     likelihood_data_k, stage_datas_k = model(x, decode_from_p=decode_from_p, use_mode=decode_from_p)\n",
    "#                     kl_divergences_k = [\n",
    "#                         stage_data.loss.kl_elementwise\n",
    "#                         for stage_data in stage_datas_k\n",
    "#                         if stage_data.loss.kl_elementwise is not None\n",
    "#                     ]\n",
    "#                     loss_k, elbo_k, likelihood_k, kl_divergences_k = criterion(\n",
    "#                         likelihood_data_k.likelihood,\n",
    "#                         kl_divergences_k,\n",
    "#                         samples=1,\n",
    "#                         free_nats=0,\n",
    "#                         beta=1,\n",
    "#                         sample_reduction=None,\n",
    "#                         batch_reduction=None,\n",
    "#                     )\n",
    "#                     sample_elbos_k.append(elbo_k.detach())\n",
    "# \n",
    "#                 sample_elbos = torch.stack(sample_elbos, axis=0)\n",
    "#                 sample_elbos_k = torch.stack(sample_elbos_k, axis=0)\n",
    "# \n",
    "#                 sample_elbo = oodd.utils.log_sum_exp(sample_elbos, axis=0)\n",
    "#                 sample_elbo_k = oodd.utils.log_sum_exp(sample_elbos_k, axis=0)\n",
    "# \n",
    "#                 score = sample_elbo - sample_elbo_k\n",
    "# \n",
    "#                 for ind, (x1, x2, y1, y2) in enumerate(coord):\n",
    "#                     if plane == 'axial':\n",
    "#                         score_mask[x1:x2, y1:y2, z] += score[ind].detach().cpu().numpy()\n",
    "#                         mean_mask[x1:x2, y1:y2, z] += 1\n",
    "#                     elif plane == 'sagittal':\n",
    "#                         score_mask[z, x1:x2, y1:y2] += score[ind].detach().cpu().numpy()\n",
    "#                         mean_mask[z, x1:x2, y1:y2] += 1\n",
    "#                     elif plane == 'coronal':\n",
    "#                         score_mask[x1:x2, z, y1:y2] += score[ind].detach().cpu().numpy()\n",
    "#                         mean_mask[x1:x2, z, y1:y2] += 1\n",
    "# \n",
    "#                     #score_mask[x1:x2, y1:y2] += weight_mask * score[ind].detach().cpu().numpy()\n",
    "#                     #mean_mask[x1:x2, y1:y2] += weight_mask\n",
    "# \n",
    "#                     #patch_score = score[ind].detach().cpu().numpy()\n",
    "#                     #score_slice = score_mask[x1:x2, y1:y2, z]\n",
    "# \n",
    "#                     #for row in pixel_lists:\n",
    "#                     #    for col in row:\n",
    "#                     #        col.append(patch_score)\n",
    "#                     #score_slice[np.nonzero(pixel_lists)] = patch_score\n",
    "#                     #score_slice[:, :, np.argmax(score_slice == 0, axis=-1)] = patch_score\n",
    "# \n",
    "#                 scores[name].extend(score.tolist())\n",
    "#                 elbos[name].extend(sample_elbo.tolist())\n",
    "#                 elbos_k[name].extend(sample_elbo_k.tolist())\n",
    "# \n",
    "#         SCORES[brain_name].extend(scores[brain_name])\n",
    "#     means.append(mean_mask)\n",
    "#     voxel_scores.append(score_mask)"
   ]
  },
  {
   "cell_type": "code",
   "execution_count": 59,
   "metadata": {},
   "outputs": [
    {
     "name": "stderr",
     "output_type": "stream",
     "text": [
      "100%|██████████| 256/256 [01:37<00:00,  2.63it/s]\n",
      "100%|██████████| 256/256 [01:37<00:00,  2.63it/s]\n",
      "100%|██████████| 256/256 [01:35<00:00,  2.68it/s]\n"
     ]
    }
   ],
   "source": [
    "iw_samples_elbo = 1\n",
    "iw_samples_Lk = 1\n",
    "batch_size = 256\n",
    "n_latents_skip = 2\n",
    "n_eval_examples = float(\"inf\")\n",
    "\n",
    "brain_name = 'brain'\n",
    "\n",
    "SCORES = defaultdict(list)\n",
    "COMP_SCORES = defaultdict(list)\n",
    "\n",
    "def get_decode_from_p(n_latents, k=0, semantic_k=True):\n",
    "    \"\"\"\n",
    "    k semantic out\n",
    "    0 True     [False, False, False]\n",
    "    1 True     [True, False, False]\n",
    "    2 True     [True, True, False]\n",
    "    0 False    [True, True, True]\n",
    "    1 False    [False, True, True]\n",
    "    2 False    [False, False, True]\n",
    "    \"\"\"\n",
    "    if semantic_k:\n",
    "        return [True] * k + [False] * (n_latents - k)\n",
    "\n",
    "    return [False] * (k + 1) + [True] * (n_latents - k - 1)\n",
    "\n",
    "def get_lengths(dataloaders):\n",
    "    return [len(loader) for name, loader in dataloaders.items()]\n",
    "\n",
    "voxel_scores_healthy = []\n",
    "means_healthy = []\n",
    "stride = (4, 4)\n",
    "tol = 0.05\n",
    "bg_tol = 0\n",
    "\n",
    "for plane in models:\n",
    "    model = models[plane]\n",
    "    score_mask = np.full((256, 256, 256), 0., dtype='float32')\n",
    "    #score_mask = np.full((512, 512, 512), 0., dtype='float32')\n",
    "    #score_mask = np.full((256, 256, 256, 50), 0., dtype='float32')\n",
    "    #score_mask = np.empty((256, 256, 256, 50), dtype='object')\n",
    "    #for i, row in enumerate(score_mask):\n",
    "    #    for j, col in enumerate(row):\n",
    "    #        for z, width in enumerate(col):\n",
    "    #            score_mask[i, j, z] = []\n",
    "    #mean_mask = np.full((512, 512, 512), 0.)\n",
    "    mean_mask = np.full((256, 256, 256), 0.)\n",
    "    \n",
    "    for z in trange(brain.shape[-1]):\n",
    "        if plane == 'axial':\n",
    "            strided_patches = make_strided_patches(brain[:, :, z], stride=stride, tol=tol, bg_tol=bg_tol)\n",
    "        elif plane == 'sagittal':\n",
    "            strided_patches = make_strided_patches(brain[z, :, :], stride=stride, tol=tol, bg_tol=bg_tol)\n",
    "        elif plane == 'coronal':\n",
    "            strided_patches = make_strided_patches(brain[:, z, :], stride=stride, tol=tol, bg_tol=bg_tol)\n",
    "        if strided_patches:\n",
    "            stride_gen, coords = strided_patches \n",
    "        else:\n",
    "            continue\n",
    "        dataset = torch.utils.data.TensorDataset(stride_gen, coords)\n",
    "        loader = torch.utils.data.DataLoader(dataset, batch_size=batch_size)\n",
    "\n",
    "        decode_from_p = get_decode_from_p(model.n_latents, k=n_latents_skip)\n",
    "        comp_decode_from_p = get_decode_from_p(model.n_latents, k=1, semantic_k=False)\n",
    "\n",
    "        scores = defaultdict(list)\n",
    "        elbos = defaultdict(list)\n",
    "        elbos_k = defaultdict(list)\n",
    "        elbos_l = defaultdict(list)\n",
    "        gen_llr_scores = defaultdict(list)\n",
    "        with torch.no_grad():\n",
    "            n = 0\n",
    "            for b, (x, coord) in enumerate(loader):\n",
    "                x = x.to(device)\n",
    "                n += x.shape[0]\n",
    "                sample_elbos, sample_elbos_k, sample_elbos_l = [], [], []\n",
    "\n",
    "                # Regular ELBO\n",
    "                for i in range(iw_samples_elbo):\n",
    "                    likelihood_data, stage_datas = model(x, decode_from_p=False, use_mode=False)\n",
    "                    kl_divergences = [\n",
    "                        stage_data.loss.kl_elementwise\n",
    "                        for stage_data in stage_datas\n",
    "                        if stage_data.loss.kl_elementwise is not None\n",
    "                    ]\n",
    "                    loss, elbo, likelihood, kl_divergences = criterion(\n",
    "                        likelihood_data.likelihood,\n",
    "                        kl_divergences,\n",
    "                        samples=1,\n",
    "                        free_nats=0,\n",
    "                        beta=1,\n",
    "                        sample_reduction=None,\n",
    "                        batch_reduction=None,\n",
    "                    )\n",
    "                    sample_elbos.append(elbo.detach())\n",
    "\n",
    "                # L>k bound\n",
    "                for i in range(iw_samples_Lk):\n",
    "                    likelihood_data_k, stage_datas_k = model(x, decode_from_p=decode_from_p, use_mode=decode_from_p)\n",
    "                    kl_divergences_k = [\n",
    "                        stage_data.loss.kl_elementwise\n",
    "                        for stage_data in stage_datas_k\n",
    "                        if stage_data.loss.kl_elementwise is not None\n",
    "                    ]\n",
    "                    loss_k, elbo_k, likelihood_k, kl_divergences_k = criterion(\n",
    "                        likelihood_data_k.likelihood,\n",
    "                        kl_divergences_k,\n",
    "                        samples=1,\n",
    "                        free_nats=0,\n",
    "                        beta=1,\n",
    "                        sample_reduction=None,\n",
    "                        batch_reduction=None,\n",
    "                    )\n",
    "                    sample_elbos_k.append(elbo_k.detach())\n",
    "                    \n",
    "                # L>l bound\n",
    "                for i in range(iw_samples_Lk):\n",
    "                    likelihood_data_l, stage_datas_l = model(x, decode_from_p=comp_decode_from_p, use_mode=comp_decode_from_p)\n",
    "                    kl_divergences_l = [\n",
    "                        stage_data.loss.kl_elementwise\n",
    "                        for stage_data in stage_datas_l\n",
    "                        if stage_data.loss.kl_elementwise is not None\n",
    "                    ]\n",
    "                    loss_l, elbo_l, likelihood_l, kl_divergences_l = criterion(\n",
    "                        likelihood_data_l.likelihood,\n",
    "                        kl_divergences_l,\n",
    "                        samples=1,\n",
    "                        free_nats=0,\n",
    "                        beta=1,\n",
    "                        sample_reduction=None,\n",
    "                        batch_reduction=None,\n",
    "                    )\n",
    "                    sample_elbos_l.append(elbo_k.detach())\n",
    "\n",
    "                sample_elbos = torch.stack(sample_elbos, axis=0)\n",
    "                sample_elbos_k = torch.stack(sample_elbos_k, axis=0)\n",
    "                sample_elbos_l = torch.stack(sample_elbos_l, axis=0)\n",
    "\n",
    "                sample_elbo = oodd.utils.log_sum_exp(sample_elbos, axis=0)\n",
    "                sample_elbo_k = oodd.utils.log_sum_exp(sample_elbos_k, axis=0)\n",
    "                sample_elbo_l = oodd.utils.log_sum_exp(sample_elbos_l, axis=0)\n",
    "\n",
    "                score = sample_elbo - sample_elbo_k\n",
    "                gen_llr_score = sample_elbo_l - sample_elbo_k\n",
    "\n",
    "                for ind, (x1, x2, y1, y2) in enumerate(coord):\n",
    "                    if plane == 'axial':\n",
    "                        score_mask[x1:x2, y1:y2, z] += score[ind].detach().cpu().numpy()\n",
    "                        mean_mask[x1:x2, y1:y2, z] += 1\n",
    "                    elif plane == 'sagittal':\n",
    "                        score_mask[z, x1:x2, y1:y2] += score[ind].detach().cpu().numpy()\n",
    "                        mean_mask[z, x1:x2, y1:y2] += 1\n",
    "                    elif plane == 'coronal':\n",
    "                        score_mask[x1:x2, z, y1:y2] += score[ind].detach().cpu().numpy()\n",
    "                        mean_mask[x1:x2, z, y1:y2] += 1\n",
    "\n",
    "                    #score_mask[x1:x2, y1:y2] += weight_mask * score[ind].detach().cpu().numpy()\n",
    "                    #mean_mask[x1:x2, y1:y2] += weight_mask\n",
    "\n",
    "                    #patch_score = score[ind].detach().cpu().numpy()\n",
    "                    #score_slice = score_mask[x1:x2, y1:y2, z]\n",
    "\n",
    "                    #for row in pixel_lists:\n",
    "                    #    for col in row:\n",
    "                    #        col.append(patch_score)\n",
    "                    #score_slice[np.nonzero(pixel_lists)] = patch_score\n",
    "                    #score_slice[:, :, np.argmax(score_slice == 0, axis=-1)] = patch_score\n",
    "\n",
    "                scores[brain_name].extend(score.tolist())\n",
    "                elbos[brain_name].extend(sample_elbo.tolist())\n",
    "                elbos_k[brain_name].extend(sample_elbo_k.tolist())\n",
    "                elbos_l[brain_name].extend(sample_elbo_l.tolist())\n",
    "                gen_llr_scores[brain_name].extend(gen_llr_score.tolist())\n",
    "\n",
    "        SCORES[brain_name].extend(scores[brain_name])\n",
    "        COMP_SCORES[brain_name].extend(gen_llr_scores[brain_name])\n",
    "        \n",
    "    means_healthy.append(mean_mask)\n",
    "    voxel_scores_healthy.append(score_mask)\n"
   ]
  },
  {
   "cell_type": "code",
   "execution_count": null,
   "metadata": {},
   "outputs": [],
   "source": [
    "COMP_SCORES"
   ]
  },
  {
   "cell_type": "code",
   "execution_count": null,
   "metadata": {},
   "outputs": [],
   "source": [
    "elbos_l"
   ]
  },
  {
   "cell_type": "code",
   "execution_count": null,
   "metadata": {},
   "outputs": [],
   "source": [
    "elbos_k"
   ]
  },
  {
   "cell_type": "code",
   "execution_count": null,
   "metadata": {},
   "outputs": [],
   "source": [
    "mood_brain_paths = [os.path.join(mood_brain_dir, path) for path in os.listdir(mood_brain_dir)][502:600]\n",
    "brain, _ = next(image_generator(mood_brain_paths))\n",
    "\n",
    "toy_brain_paths = [os.path.join(mood_brain_toy_dir, path) for path in os.listdir(mood_brain_toy_dir)]\n",
    "toy_brains = [img.ravel() for img, _ in list(image_generator(toy_brain_paths))]\n",
    "#toy_brain, _ = next(toy_gen)\n",
    "#toy_brain, _ = next(toy_gen)"
   ]
  },
  {
   "cell_type": "code",
   "execution_count": null,
   "metadata": {},
   "outputs": [],
   "source": [
    "#toy_results_path = '/home/derek/toy_results/6000_thres_brain_three_planes'\n",
    "toy_results_path = '/home/derek/toy_results/mood_2022_submission_results'\n",
    "brain_toy_results = [os.path.join(toy_results_path, 'brain', path) for path in os.listdir('/home/derek/toy_results/6000_thres_brain_three_planes/brain')][1:]\n",
    "abdom_toy_results = [os.path.join(toy_results_path, 'abdom', path) for path in os.listdir('/home/derek/toy_results/6000_thres_brain_three_planes/abdom')][1:]\n",
    "\n",
    "brain_toy_results = [img.ravel() for img, _ in list(image_generator(brain_toy_results))]\n",
    "abdom_toy_results = [img.ravel() for img, _ in list(image_generator(abdom_toy_results, tol=0))]"
   ]
  },
  {
   "cell_type": "code",
   "execution_count": null,
   "metadata": {},
   "outputs": [],
   "source": [
    "toy_mask_paths = [os.path.join(mood_brain_mask_dir, path) for path in os.listdir(mood_brain_mask_dir)]\n",
    "toy_brain_masks = [mask.ravel() for mask, _ in list(image_generator(toy_mask_paths))]"
   ]
  },
  {
   "cell_type": "code",
   "execution_count": null,
   "metadata": {},
   "outputs": [],
   "source": [
    "toy_abdom_mask_paths = [os.path.join(mood_abdom_mask_dir, path) for path in os.listdir(mood_abdom_mask_dir)]\n",
    "toy_abdom_masks = [mask.ravel() for mask, _ in list(image_generator(toy_abdom_mask_paths))]"
   ]
  },
  {
   "cell_type": "code",
   "execution_count": null,
   "metadata": {},
   "outputs": [],
   "source": [
    "y_true = np.hstack(toy_brain_masks)\n",
    "y_score = np.hstack(brain_toy_results) #* (np.hstack(toy_brains) != 0)\n",
    "\n",
    "prec, recall, _ = precision_recall_curve(y_true, y_score)\n",
    "average_precision = average_precision_score(y_true, y_score)\n",
    "PrecisionRecallDisplay(precision=prec, recall=recall, average_precision=average_precision, estimator_name='Axial Brain HVAE').plot()"
   ]
  },
  {
   "cell_type": "code",
   "execution_count": null,
   "metadata": {},
   "outputs": [],
   "source": [
    "y_true = np.hstack(toy_abdom_masks)\n",
    "y_score = np.hstack(abdom_toy_results)\n",
    "\n",
    "prec, recall, _ = precision_recall_curve(y_true, y_score)\n",
    "average_precision = average_precision_score(y_true, y_score)\n",
    "PrecisionRecallDisplay(precision=prec, recall=recall, average_precision=average_precision, estimator_name='Axial Abdom HVAE').plot(color='orange')"
   ]
  },
  {
   "cell_type": "code",
   "execution_count": null,
   "metadata": {},
   "outputs": [],
   "source": [
    "y_true = np.hstack(toy_brain_masks)\n",
    "y_score = np.hstack(brain_toy_results)\n",
    "\n",
    "prec, recall, _ = precision_recall_curve(y_true, y_score)\n",
    "average_precision = average_precision_score(y_true, y_score)\n",
    "PrecisionRecallDisplay(precision=prec, recall=recall, average_precision=average_precision, estimator_name='3-Plane Brain HVAE').plot()"
   ]
  },
  {
   "cell_type": "code",
   "execution_count": null,
   "metadata": {},
   "outputs": [],
   "source": [
    "y_true = np.hstack(toy_abdom_masks)\n",
    "y_score = np.hstack(abdom_toy_results)\n",
    "\n",
    "prec, recall, _ = precision_recall_curve(y_true, y_score)\n",
    "average_precision = average_precision_score(y_true, y_score)\n",
    "PrecisionRecallDisplay(precision=prec, recall=recall, average_precision=average_precision, estimator_name='Axial Abdom HVAE').plot(color='orange')"
   ]
  },
  {
   "cell_type": "code",
   "execution_count": null,
   "metadata": {},
   "outputs": [],
   "source": [
    "fig, axes = plt.subplots(1, 3)\n",
    "\n",
    "for i, ax in enumerate(axes):\n",
    "    ax.imshow(voxel_scores[i][:, :, 71])"
   ]
  },
  {
   "cell_type": "code",
   "execution_count": null,
   "metadata": {},
   "outputs": [],
   "source": [
    "plt.imshow(toy_brain[:, :,  180])"
   ]
  },
  {
   "cell_type": "code",
   "execution_count": null,
   "metadata": {},
   "outputs": [],
   "source": [
    "score_mask = voxel_scores[0] + voxel_scores[1] + voxel_scores[2]\n",
    "mean_mask = means[0] + means[1] + means[2]\n",
    "\n",
    "#score_mask = np.maximum(np.maximum(voxel_scores[0], voxel_scores[1]), voxel_scores[2])\n",
    "#mean_mask = np.where(voxel_scores[0] > voxel_scores[1], means[0], means[1])\n",
    "#mean_mask = np.where(mean_mask > means[2], mean_mask, means[2])\n",
    "\n",
    "#score_mask = np.minimum(np.minimum(voxel_scores[0], voxel_scores[1]), voxel_scores[2])\n",
    "#mean_mask = np.where(voxel_scores[0] < voxel_scores[1], means[0], means[1])\n",
    "#mean_mask = np.where(mean_mask < means[2], mean_mask, means[2])\n",
    "\n",
    "plt.imshow(score_mask[:, :, 128])"
   ]
  },
  {
   "cell_type": "code",
   "execution_count": null,
   "metadata": {},
   "outputs": [],
   "source": [
    "def min_max_normalization(x, low=0, high=1, axis=None):\n",
    "    return low * (x > 0) + (x - (x < 0) * np.min(x, axis=axis)) * (high - low) / (np.max(x, axis=axis) - np.min(x, axis=axis))"
   ]
  },
  {
   "cell_type": "code",
   "execution_count": null,
   "metadata": {},
   "outputs": [],
   "source": [
    "norm_min = np.min([np.min(arr[arr > 0]) for arr in voxel_scores])\n",
    "norm_max = np.min([np.max(arr) for arr in voxel_scores])\n",
    "\n",
    "voxel_scores_normed = [min_max_normalization(arr, low=norm_min, high=norm_max) for arr in voxel_scores]\n",
    "score_mask_normed = voxel_scores_normed[0] + voxel_scores_normed[1] + voxel_scores_normed[2]"
   ]
  },
  {
   "cell_type": "code",
   "execution_count": null,
   "metadata": {},
   "outputs": [],
   "source": [
    "template = np.full((256, 256, 256), 0., dtype='float32')\n",
    "with tqdm(total=256) as pbar:\n",
    "    for i, row in enumerate(score_mask):\n",
    "        for j, col in enumerate(row):\n",
    "            for z, width in enumerate(col):\n",
    "                if not width:\n",
    "                    continue\n",
    "                agg_score = np.array(width)\n",
    "                half = np.percentile(agg_score, 50)\n",
    "                template[i, j, z] = np.mean(agg_score[agg_score <= half])\n",
    "        pbar.update(1)"
   ]
  },
  {
   "cell_type": "code",
   "execution_count": null,
   "metadata": {},
   "outputs": [],
   "source": [
    "normalized = np.maximum(0, score_mask - np.percentile(score_mask, 90))\n",
    "normalized = (normalized / np.max(normalized)) #+ (toy_mask == False)[:, :, 140] \n",
    "plt.imshow(normalized, cmap='gray')\n",
    "plt.colorbar()"
   ]
  },
  {
   "cell_type": "code",
   "execution_count": null,
   "metadata": {},
   "outputs": [],
   "source": [
    "plt.imshow(score_mask *(toy_mask == False)[:, :, 140], cmap='gray')\n",
    "plt.colorbar()"
   ]
  },
  {
   "cell_type": "code",
   "execution_count": null,
   "metadata": {},
   "outputs": [],
   "source": [
    "plt.imshow(score_mask * (toy_brain[:, :, 140] == 0))\n",
    "plt.colorbar()"
   ]
  },
  {
   "cell_type": "code",
   "execution_count": null,
   "metadata": {},
   "outputs": [],
   "source": [
    "plt.imshow(score_mask, cmap='gray')\n",
    "plt.colorbar()"
   ]
  },
  {
   "cell_type": "code",
   "execution_count": null,
   "metadata": {},
   "outputs": [],
   "source": [
    "plt.imshow(mean_mask)\n",
    "plt.colorbar()"
   ]
  },
  {
   "cell_type": "code",
   "execution_count": null,
   "metadata": {},
   "outputs": [],
   "source": [
    "per_pixel_map = score_mask / mean_mask\n",
    "per_pixel_map = np.where(np.isnan(per_pixel_map), 0, per_pixel_map)\n",
    "min_llr = np.min(per_pixel_map[per_pixel_map > 0])\n",
    "max_llr = 7700\n",
    "new_normed = np.where(per_pixel_map > 0, (per_pixel_map - min_llr) / max_llr, score_mask)\n",
    "plt.imshow(new_normed[:, :, 60])\n",
    "#plt.imshow(per_pixel_map[:, :, 50], cmap='gray')\n",
    "plt.colorbar()"
   ]
  },
  {
   "cell_type": "code",
   "execution_count": null,
   "metadata": {},
   "outputs": [],
   "source": [
    "np.max(SCORES['brain'], axis=0)"
   ]
  },
  {
   "cell_type": "code",
   "execution_count": null,
   "metadata": {},
   "outputs": [],
   "source": [
    "healthy_averaged_scores"
   ]
  },
  {
   "cell_type": "code",
   "execution_count": null,
   "metadata": {},
   "outputs": [],
   "source": [
    "from sklearn.svm import OneClassSVM\n",
    "from sklearn.ensemble import IsolationForest"
   ]
  },
  {
   "cell_type": "code",
   "execution_count": null,
   "metadata": {},
   "outputs": [],
   "source": [
    "healthy_averaged_scores = np.hstack([np.where(np.isnan(p / mean), 0, p).ravel().reshape(-1, 1) for p, mean in zip(voxel_scores_healthy, means_healthy)])\n",
    "#iso_forest = IsolationForest(behaviour='new')\n",
    "#iso_forest.fit(healthy_averaged_scores[healthy_averaged_scores.sum(axis=1) != 0])\n",
    "\n",
    "one_c_svm = OneClassSVM()\n",
    "one_c_svm.fit(healthy_averaged_scores[healthy_averaged_scores.sum(axis=1) != 0])"
   ]
  },
  {
   "cell_type": "code",
   "execution_count": null,
   "metadata": {},
   "outputs": [],
   "source": [
    "anomalous_averaged_scores = np.hstack([np.where(np.isnan(p / mean), 0, p).ravel().reshape(-1, 1) for p, mean in zip(voxel_scores, means)])\n",
    "anom_score = iso_forest.score_samples(anomalous_averaged_scores)"
   ]
  },
  {
   "cell_type": "code",
   "execution_count": null,
   "metadata": {},
   "outputs": [],
   "source": [
    "plt.hist(anom_score[(brain != 0).ravel()], bins=100)"
   ]
  },
  {
   "cell_type": "code",
   "execution_count": null,
   "metadata": {},
   "outputs": [],
   "source": [
    "# No bg\n",
    "no_bg_anom_score = (-anom_score.reshape(256, 256, 256) * (toy_brain != 0))\n",
    "print(f\"Combined scores AP: {average_precision_score(toy_mask.ravel().astype(int), -no_bg_anom_score.ravel())}\")"
   ]
  },
  {
   "cell_type": "code",
   "execution_count": null,
   "metadata": {},
   "outputs": [],
   "source": [
    "plt.imshow([:, :, 180])\n",
    "plt.colorbar()"
   ]
  },
  {
   "cell_type": "code",
   "execution_count": null,
   "metadata": {
    "scrolled": true
   },
   "outputs": [],
   "source": [
    "per_pixel_map = score_mask / mean_mask\n",
    "per_pixel_map = np.where(np.isnan(per_pixel_map), 0, per_pixel_map)\n",
    "#plt.imshow(per_pixel_map[:, :, 140], cmap='gray')\n",
    "normalized = np.clip(per_pixel_map - 7800, 0, np.inf)\n",
    "norm_factor = np.max(normalized)\n",
    "if norm_factor == 0:\n",
    "    pass\n",
    "else:\n",
    "    normalized /= np.max(normalized)\n",
    "plt.imshow(normalized[:, :, 70], cmap='gray')\n",
    "plt.colorbar()"
   ]
  },
  {
   "cell_type": "code",
   "execution_count": null,
   "metadata": {},
   "outputs": [],
   "source": [
    "plt.imshow(toy_brain[:, :, 128], cmap='gray')\n",
    "plt.colorbar()"
   ]
  },
  {
   "cell_type": "code",
   "execution_count": null,
   "metadata": {
    "scrolled": true
   },
   "outputs": [],
   "source": [
    "#per_pixel_map_axial = score_mask / mean_mask\n",
    "#per_pixel_map_axial = score_mask_normed / mean_mask\n",
    "per_pixel_map_axial = voxel_scores[0] / means[0]\n",
    "per_pixel_map_axial = np.where(np.isnan(per_pixel_map_axial), 0, per_pixel_map_axial)\n",
    "#plt.imshow(per_pixel_map_axial[:, :, 140], cmap='gray')\n",
    "#normalized = np.clip(per_pixel_map_axial - 7800, 0, np.inf)\n",
    "mn = 6000\n",
    "mx = 7850\n",
    "\n",
    "#mn = 0\n",
    "#mx = 20000\n",
    "normalized_axial = np.where(per_pixel_map_axial < mn, 0, per_pixel_map_axial)\n",
    "normalized_axial = np.where(per_pixel_map_axial > mx, 1, normalized_axial)\n",
    "normalized_axial = np.where((per_pixel_map_axial <= mx) & (per_pixel_map_axial >= mn), (per_pixel_map_axial-mn)/(mx-mn), normalized_axial)\n",
    "#factor = 8000 - 7800\n",
    "plt.imshow(normalized_axial[:, :, 180], cmap='gray')\n",
    "plt.title('Axial Brain Rescaled LLR Score')\n",
    "plt.colorbar()\n",
    "plt.axis('off')"
   ]
  },
  {
   "cell_type": "code",
   "execution_count": null,
   "metadata": {
    "scrolled": true
   },
   "outputs": [],
   "source": [
    "#per_pixel_map_sagittal = score_mask / mean_mask\n",
    "#per_pixel_map_sagittal = score_mask_normed / mean_mask\n",
    "per_pixel_map_sagittal = voxel_scores[1] / means[1]\n",
    "per_pixel_map_sagittal = np.where(np.isnan(per_pixel_map_sagittal), 0, per_pixel_map_sagittal)\n",
    "#plt.imshow(per_pixel_map_sagittal[:, :, 140], cmap='gray')\n",
    "#normalized_sagittal = np.clip(per_pixel_map_sagittal - 7800, 0, np.inf)\n",
    "#mn = 7000\n",
    "mn = 6000\n",
    "mx = 7950\n",
    "\n",
    "#mn = 0\n",
    "#mx = 20000\n",
    "normalized_sagittal = np.where(per_pixel_map_sagittal < mn, 0, per_pixel_map_sagittal)\n",
    "normalized_sagittal = np.where(per_pixel_map_sagittal > mx, 1, normalized_sagittal)\n",
    "normalized_sagittal = np.where((per_pixel_map_sagittal <= mx) & (per_pixel_map_sagittal >= mn), (per_pixel_map_sagittal-mn)/(mx-mn), normalized_sagittal)\n",
    "#factor = 8000 - 7800\n",
    "plt.imshow(normalized_sagittal[:, :, 180], cmap='gray')\n",
    "plt.title('Sagittal Brain Rescaled LLR Score')\n",
    "plt.colorbar()\n",
    "plt.axis('off')"
   ]
  },
  {
   "cell_type": "code",
   "execution_count": null,
   "metadata": {
    "scrolled": true
   },
   "outputs": [],
   "source": [
    "#per_pixel_map_coronal = score_mask / mean_mask\n",
    "#per_pixel_map_coronal = score_mask_normed / mean_mask\n",
    "per_pixel_map_coronal = voxel_scores[2] / means[2]\n",
    "per_pixel_map_coronal = np.where(np.isnan(per_pixel_map_coronal), 0, per_pixel_map_coronal)\n",
    "#plt.imshow(per_pixel_map_coronal[:, :, 140], cmap='gray')\n",
    "#normalized_coronal = np.clip(per_pixel_map_coronal - 7800, 0, np.inf)\n",
    "mn = 6000\n",
    "mx = 7750\n",
    "\n",
    "#mn = 0\n",
    "#mx = 20000\n",
    "normalized_coronal = np.where(per_pixel_map_coronal < mn, 0, per_pixel_map_coronal)\n",
    "normalized_coronal = np.where(per_pixel_map_coronal > mx, 1, normalized_coronal)\n",
    "normalized_coronal = np.where((per_pixel_map_coronal <= mx) & (per_pixel_map_coronal >= mn), (per_pixel_map_coronal-mn)/(mx-mn), normalized_coronal)\n",
    "#factor = 8000 - 7800\n",
    "plt.imshow(normalized_coronal[:, :, 180], cmap='gray')\n",
    "plt.title('Coronal Brain Rescaled LLR Score')\n",
    "plt.colorbar()\n",
    "plt.axis('off')"
   ]
  },
  {
   "cell_type": "code",
   "execution_count": null,
   "metadata": {},
   "outputs": [],
   "source": [
    "per_pixel_map_corona"
   ]
  },
  {
   "cell_type": "code",
   "execution_count": null,
   "metadata": {},
   "outputs": [],
   "source": [
    "from sklearn.ensemble import IsolationForest"
   ]
  },
  {
   "cell_type": "code",
   "execution_count": null,
   "metadata": {},
   "outputs": [],
   "source": [
    "IsolationForest()"
   ]
  },
  {
   "cell_type": "code",
   "execution_count": null,
   "metadata": {},
   "outputs": [],
   "source": [
    "bg_mask = (toy_brain != 0)\n",
    "#comb_normalized = np.maximum(np.maximum(normalized_axial, normalized_sagittal), normalized_coronal) * (toy_brain != 0)\n",
    "\n",
    "# The product of their probabilities\n",
    "#comb_normalized = (normalized_axial * normalized_sagittal * normalized_coronal) * (toy_brain != 0)\n",
    "\n",
    "\n",
    "#comb_normalized = np.where(normalized_axial > 0, normalized_axial * normalized_sagittal, normalized_sagittal)\n",
    "#comb_normalized = np.where(comb_normalized > 0, comb_normalized * normalized_coronal, normalized_coronal)\n",
    "\n",
    "element_wise_max = np.maximum(np.maximum(normalized_axial, normalized_sagittal), normalized_coronal)\n",
    "element_wise_min = np.minimum(np.minimum(normalized_axial, normalized_sagittal), normalized_coronal)\n",
    "element_wise_range = np.abs(element_wise_max - element_wise_min)\n",
    "\n",
    "#comb_normalized = np.where(\n",
    "    #element_wise_range <= 0.3, normalized_axial * normalized_sagittal * normalized_coronal, element_wise_max)\n",
    "#comb_normalized = element_wise_max\n",
    "comb_normalized = np.mean([normalized_axial, normalized_sagittal, normalized_coronal], axis=0)\n",
    "\n",
    "#comb_normalized = np.where(\n",
    "    #element_wise_range <= 0.9, (normalized_axial + normalized_sagittal + normalized_coronal) / 3, element_wise_max) * (toy_brain != 0)\n",
    "\n",
    "#comb_normalized = np.where(np.abs(comb_normalized - normalized_coronal) <= 0.5, comb_normalized * normalized_coronal, np.maximum(normalized_coronal, comb_normalized))\n",
    "plt.imshow(comb_normalized[:, :, 180], cmap='gray')\n",
    "plt.title('Combined Brain Score')\n",
    "plt.colorbar()\n",
    "plt.axis('off')"
   ]
  },
  {
   "cell_type": "code",
   "execution_count": null,
   "metadata": {},
   "outputs": [],
   "source": [
    "print(f\"Combined scores AP: {average_precision_score(toy_mask.ravel().astype(int), comb_normalized.ravel())}\")\n",
    "print(f\"Axial scores AP: {average_precision_score(toy_mask.ravel().astype(int), normalized_axial.ravel())}\")\n",
    "print(f\"Sagittal scores AP: {average_precision_score(toy_mask.ravel().astype(int), normalized_sagittal.ravel())}\")\n",
    "print(f\"Coronal scores AP: {average_precision_score(toy_mask.ravel().astype(int), normalized_coronal.ravel())}\")"
   ]
  },
  {
   "cell_type": "code",
   "execution_count": null,
   "metadata": {},
   "outputs": [],
   "source": [
    "average_precision_score([1., 1., 1., 0., 0., 0.], [0.1, 0.1, 0.1, 0.2, 0.0, 0.0])"
   ]
  },
  {
   "cell_type": "code",
   "execution_count": null,
   "metadata": {},
   "outputs": [],
   "source": [
    "plt.imshow(score_mask *(toy_mask == False)[:, :, 140], cmap='gray')\n",
    "plt.colorbar()"
   ]
  },
  {
   "cell_type": "code",
   "execution_count": null,
   "metadata": {},
   "outputs": [],
   "source": [
    "plt.imshow(per_pixel_map * (toy_brain[:, :, 140] == 0))\n",
    "plt.colorbar()"
   ]
  },
  {
   "cell_type": "code",
   "execution_count": null,
   "metadata": {},
   "outputs": [],
   "source": [
    "plt.hist(SCORES['brain'], bins=100, color='orange')\n",
    "plt.title('toy_2 LLRs')"
   ]
  },
  {
   "cell_type": "code",
   "execution_count": null,
   "metadata": {},
   "outputs": [],
   "source": [
    "plt.hist(SCORES['brain'], bins=100, color='orange')\n",
    "plt.title('Healthy Abdom LLRs')"
   ]
  },
  {
   "cell_type": "markdown",
   "metadata": {},
   "source": [
    "### Toy Validation Set Results"
   ]
  },
  {
   "cell_type": "code",
   "execution_count": null,
   "metadata": {},
   "outputs": [],
   "source": [
    "datamodule = oodd.datasets.DataModule(\n",
    "        batch_size=128,\n",
    "        test_batch_size=500,\n",
    "        data_workers=4,\n",
    "        train_datasets= {\n",
    "            \"MOODPatchesPctileChauhan\": {\"dset_path\": \"/home/derek/mood_patches/brain_patches28_with_val.npz\", \"split\": \"train\"\n",
    "        }},\n",
    "        val_datasets={\n",
    "            \"MOODPatchesPctileChauhan\": {\"dset_path\": \"/home/derek/mood_patches/brain_patches28_with_val.npz\", \"split\": \"validation\", \"toy\": False},\n",
    "            #\"MOODPatchesPctileChauhan\": {\"split\": \"validation\", \"toy\": 'true'},\n",
    "            \"MOODPatchesPctileChauhan-1\": {\"dset_path\": \"/home/derek/mood_patches/brain_toy_patches_only_anom.npz\", \"split\": \"validation\", \"toy\": False, \"anom\": True},\n",
    "            #\"MOODPatchesRaw\": {\"dset_path\": \"/home/derek/mood_patches/brain_patches28_with_val.npz\", \"split\": \"validation\", \"toy\": False},\n",
    "            #\"MOODPatchesRaw-1\": {\"dset_path\": \"/home/derek/mood_patches/brain_toy_patches_only_anom.npz\", \"split\": \"validation\", \"toy\": False, \"anom\": True},\n",
    "            \"MNISTPctile\" : {\"split\": \"validation\", \"dynamic\": False},\n",
    "            \"FashionMNISTPctile\" : {\"split\": \"validation\", \"dynamic\": False}\n",
    "        },\n",
    "        test_datasets={\n",
    "            #\"MOODPatchesRaw\": {\"split\": \"validation\", \"toy\": False, \"anom\": True}\n",
    "        },\n",
    ")\n",
    "\n",
    "checkpoint_raw = oodd.models.Checkpoint(path='./models/MOODPatchesRaw-2022-09-20-21-36-25.194489')\n",
    "#checkpoint = oodd.models.Checkpoint(path='./models/mood_abdom_10-mix_150-epochs_no-nats_no-cooldown')\n",
    "\n",
    "checkpoint_raw.load_model()\n",
    "model_raw = checkpoint_raw.model\n",
    "model_raw.eval()\n",
    "model_raw.to(device)\n",
    "\n",
    "dataloaders = {(k + \" test\", v) for k, v in datamodule.val_loaders.items()}"
   ]
  },
  {
   "cell_type": "code",
   "execution_count": null,
   "metadata": {},
   "outputs": [],
   "source": [
    "plt.imshow(datamodule.val_datasets['MOODPatchesRaw'][0][0].squeeze(), cmap='gray')"
   ]
  },
  {
   "cell_type": "code",
   "execution_count": null,
   "metadata": {},
   "outputs": [],
   "source": [
    "plt.imshow(datamodule.val_datasets['MOODPatchesPctileChauhan'][0][0].squeeze(), cmap='gray')"
   ]
  },
  {
   "cell_type": "code",
   "execution_count": null,
   "metadata": {},
   "outputs": [],
   "source": [
    "normalized = datamodule.val_datasets['MOODPatchesPctileChauhan']\n",
    "normalized_sample = [normalized[i][0] for i in range(4)]\n",
    "fig, axes = plt.subplots(2, 2)\n",
    "for i, ax in enumerate(axes.ravel()):\n",
    "    ax.imshow(normalized_sample[i].squeeze(), cmap='gray')\n",
    "    ax.axis('off')\n",
    "fig.tight_layout()"
   ]
  },
  {
   "cell_type": "code",
   "execution_count": null,
   "metadata": {},
   "outputs": [],
   "source": [
    "raw = datamodule.val_datasets['MOODPatchesRaw']\n",
    "raw_sample = [raw[i][0] for i in range(4)]\n",
    "fig, axes = plt.subplots(2, 2)\n",
    "for i, ax in enumerate(axes.ravel()):\n",
    "    ax.imshow(raw_sample[i].squeeze(), cmap='gray')\n",
    "    ax.axis('off')\n",
    "fig.tight_layout()"
   ]
  },
  {
   "cell_type": "code",
   "execution_count": null,
   "metadata": {},
   "outputs": [],
   "source": [
    "iw_samples_elbo = 1\n",
    "iw_samples_Lk = 1\n",
    "batch_size = 500\n",
    "n_latents_skip = 2\n",
    "n_eval_examples = float(\"inf\")\n",
    "criterion = oodd.losses.ELBO()\n",
    "\n",
    "def get_decode_from_p(n_latents, k=0, semantic_k=True):\n",
    "    \"\"\"\n",
    "    k semantic out\n",
    "    0 True     [False, False, False]\n",
    "    1 True     [True, False, False]\n",
    "    2 True     [True, True, False]\n",
    "    0 False    [True, True, True]\n",
    "    1 False    [False, True, True]\n",
    "    2 False    [False, False, True]\n",
    "    \"\"\"\n",
    "    if semantic_k:\n",
    "        return [True] * k + [False] * (n_latents - k)\n",
    "\n",
    "    return [False] * (k + 1) + [True] * (n_latents - k - 1)\n",
    "\n",
    "def get_lengths(dataloaders):\n",
    "    return [len(loader) for name, loader in dataloaders.items()]\n",
    "\n",
    "n_test_batches = get_lengths(datamodule.val_datasets) + get_lengths(datamodule.test_datasets)\n",
    "N_EQUAL_EXAMPLES_CAP = min(n_test_batches)\n",
    "assert N_EQUAL_EXAMPLES_CAP % batch_size == 0, \"Batch size must divide smallest dataset size\"\n",
    "N_EQUAL_EXAMPLES_CAP = min([n_eval_examples, N_EQUAL_EXAMPLES_CAP])\n",
    "\n",
    "decode_from_p = get_decode_from_p(model_axial.n_latents, k=n_latents_skip)\n",
    "\n",
    "scores = defaultdict(list)\n",
    "elbos = defaultdict(list)\n",
    "elbos_k = defaultdict(list)\n",
    "with torch.no_grad():\n",
    "    for dataset, dataloader in dataloaders:\n",
    "        dataset = dataset.replace(\"Binarized\", \"\").replace(\"Quantized\", \"\").replace(\"Dequantized\", \"\")\n",
    "        #print(f\"Evaluating {dataset}\")\n",
    "\n",
    "        n = 0\n",
    "        for b, (x, _) in tqdm(enumerate(dataloader), total=N_EQUAL_EXAMPLES_CAP / batch_size, leave=True, position=0):\n",
    "            x = x.to(device)\n",
    "\n",
    "            n += x.shape[0]\n",
    "            sample_elbos, sample_elbos_k = [], []\n",
    "\n",
    "            # Regular ELBO\n",
    "            for i in tqdm(range(iw_samples_elbo), leave=True):\n",
    "                likelihood_data, stage_datas = model_axial(x, decode_from_p=False, use_mode=False)\n",
    "                kl_divergences = [\n",
    "                    stage_data.loss.kl_elementwise\n",
    "                    for stage_data in stage_datas\n",
    "                    if stage_data.loss.kl_elementwise is not None\n",
    "                ]\n",
    "                loss, elbo, likelihood, kl_divergences = criterion(\n",
    "                    likelihood_data.likelihood,\n",
    "                    kl_divergences,\n",
    "                    samples=1,\n",
    "                    free_nats=0,\n",
    "                    beta=1,\n",
    "                    sample_reduction=None,\n",
    "                    batch_reduction=None,\n",
    "                )\n",
    "                sample_elbos.append(elbo.detach())\n",
    "\n",
    "            # L>k bound\n",
    "            for i in tqdm(range(iw_samples_Lk), leave=True):\n",
    "                likelihood_data_k, stage_datas_k = model_axial(x, decode_from_p=decode_from_p, use_mode=decode_from_p)\n",
    "                kl_divergences_k = [\n",
    "                    stage_data.loss.kl_elementwise\n",
    "                    for stage_data in stage_datas_k\n",
    "                    if stage_data.loss.kl_elementwise is not None\n",
    "                ]\n",
    "                loss_k, elbo_k, likelihood_k, kl_divergences_k = criterion(\n",
    "                    likelihood_data_k.likelihood,\n",
    "                    kl_divergences_k,\n",
    "                    samples=1,\n",
    "                    free_nats=0,\n",
    "                    beta=1,\n",
    "                    sample_reduction=None,\n",
    "                    batch_reduction=None,\n",
    "                )\n",
    "                sample_elbos_k.append(elbo_k.detach())\n",
    "\n",
    "            sample_elbos = torch.stack(sample_elbos, axis=0)\n",
    "            sample_elbos_k = torch.stack(sample_elbos_k, axis=0)\n",
    "\n",
    "            sample_elbo = oodd.utils.log_sum_exp(sample_elbos, axis=0)\n",
    "            sample_elbo_k = oodd.utils.log_sum_exp(sample_elbos_k, axis=0)\n",
    "\n",
    "            score = sample_elbo - sample_elbo_k\n",
    "\n",
    "            scores[dataset].extend(score.tolist())\n",
    "            elbos[dataset].extend(sample_elbo.tolist())\n",
    "            elbos_k[dataset].extend(sample_elbo_k.tolist())\n",
    "\n",
    "            if n > N_EQUAL_EXAMPLES_CAP:\n",
    "                break"
   ]
  },
  {
   "cell_type": "code",
   "execution_count": null,
   "metadata": {},
   "outputs": [],
   "source": [
    "indist = np.array(elbos['MOODPatchesPctileChauhan test'])\n",
    "ood = np.array(elbos['MOODPatchesPctileChauhan-1 test'])\n",
    "#ood = elbos['MNIST test']\n",
    "\n",
    "sns.kdeplot(indist, fill=True, label='In-distribution')\n",
    "sns.kdeplot(ood, fill=True, label='OOD')\n",
    "plt.title('HVAE - ELBO OOD Detection')\n",
    "plt.xlabel('ELBO Log-Likelihood')\n",
    "plt.legend()"
   ]
  },
  {
   "cell_type": "code",
   "execution_count": null,
   "metadata": {},
   "outputs": [],
   "source": [
    "indist = np.array(elbos_k['MOODPatchesRaw test'])\n",
    "ood = np.array(elbos_k['MOODPatchesRaw-1 test'])\n",
    "#ood = elbos['MNIST test']\n",
    "\n",
    "sns.kdeplot(indist, fill=True, label='In-distribution')\n",
    "sns.kdeplot(ood, fill=True, label='OOD')\n",
    "plt.title('HVAE Raw Patches - L_k>2 OOD Detection')\n",
    "plt.xlabel('L_k>2 Log-Likelihood')\n",
    "plt.legend()"
   ]
  },
  {
   "cell_type": "code",
   "execution_count": null,
   "metadata": {},
   "outputs": [],
   "source": [
    "# LLR > 1, 250 IW samples\n",
    "y_true = np.r_[np.ones(10000, dtype=np.uint8), np.zeros(10000, dtype=np.uint8)]\n",
    "#ood_y_true = np.zeros(10000, dtype=np.uint8)\n",
    "#ood_y_true[np.argwhere((labels == 0.).ravel())] = 1\n",
    "#y_true = np.r_[np.ones(10000, dtype=np.uint8), ood_y_true]\n",
    "y_score = np.r_[indist, ood]\n",
    "fpr, tpr, thres = roc_curve(y_true, y_score)\n",
    "ll_auc = auc(fpr, tpr)\n",
    "\n",
    "plt.plot(fpr, tpr, c='darkorange', label=f'L_k>2 AUCROC - {round(ll_auc, 4)}')\n",
    "plt.plot([0, 1], [0, 1], linestyle='--')\n",
    "plt.xlim(-0.02, 1.02)\n",
    "plt.ylim(-0.02, 1.02)\n",
    "plt.legend()"
   ]
  },
  {
   "cell_type": "code",
   "execution_count": null,
   "metadata": {},
   "outputs": [],
   "source": [
    "raw_elbos = np.array(elbos['MOODPatchesRaw test']).copy()"
   ]
  },
  {
   "cell_type": "code",
   "execution_count": null,
   "metadata": {},
   "outputs": [],
   "source": [
    "normalized_elbos = elbos['MOODPatchesPctileChauhan test']"
   ]
  },
  {
   "cell_type": "code",
   "execution_count": null,
   "metadata": {},
   "outputs": [],
   "source": [
    "sns.kdeplot(raw_elbos, fill=True, label='Raw Patches')\n",
    "sns.kdeplot(normalized_elbos, fill=True, label='Normalized Patches')\n",
    "plt.title('Normalized and Raw Patches Healthy Validation Set ELBOs')\n",
    "plt.xlabel('ELBO Log-Likelihood')\n",
    "plt.legend()"
   ]
  },
  {
   "cell_type": "code",
   "execution_count": null,
   "metadata": {},
   "outputs": [],
   "source": [
    "# LLR > 1, 250 IW samples\n",
    "y_true = np.r_[np.ones(10000, dtype=np.uint8), np.zeros(10000, dtype=np.uint8)]\n",
    "#ood_y_true = np.zeros(10000, dtype=np.uint8)\n",
    "#ood_y_true[np.argwhere((labels == 0.).ravel())] = 1\n",
    "#y_true = np.r_[np.ones(10000, dtype=np.uint8), ood_y_true]\n",
    "y_score = np.r_[indist, ood]\n",
    "fpr, tpr, thres = roc_curve(y_true, y_score)\n",
    "ll_auc = auc(fpr, tpr)\n",
    "\n",
    "plt.plot(fpr, tpr, c='darkorange', label=f'Log-likelihood AUCROC - {round(ll_auc, 4)}')\n",
    "plt.plot([0, 1], [0, 1], linestyle='--')\n",
    "plt.xlim(-0.02, 1.02)\n",
    "plt.ylim(-0.02, 1.02)\n",
    "plt.legend()"
   ]
  },
  {
   "cell_type": "code",
   "execution_count": null,
   "metadata": {},
   "outputs": [],
   "source": [
    "indist = np.array(scores['MOODPatchesPctileChauhan test'])\n",
    "ood = np.array(scores['MOODPatchesPctileChauhan-1 test'])\n",
    "\n",
    "sns.kdeplot(indist, fill=True, label='In-distribution')\n",
    "sns.kdeplot(ood, fill=True, label='OOD')\n",
    "plt.title('Log-Likelihood Ratios - MoL Decoder')\n",
    "plt.xlabel('Log-Likelihood Ratio')\n",
    "plt.legend()"
   ]
  },
  {
   "cell_type": "code",
   "execution_count": null,
   "metadata": {},
   "outputs": [],
   "source": [
    "indist = np.array(scores['MOODPatchesPctileChauhan test'])\n",
    "\n",
    "sns.kdeplot(indist, fill=True)\n",
    "plt.title('MoL Decoder Healthy Validation Set LLRs')\n",
    "plt.xlabel('Log-Likelihood Ratio')\n",
    "#sns.kdeplot(ood)"
   ]
  },
  {
   "cell_type": "code",
   "execution_count": null,
   "metadata": {},
   "outputs": [],
   "source": [
    "np.sum(np.array(indist) > 7000)"
   ]
  },
  {
   "cell_type": "code",
   "execution_count": null,
   "metadata": {},
   "outputs": [],
   "source": [
    "sorted(-indist)"
   ]
  },
  {
   "cell_type": "code",
   "execution_count": null,
   "metadata": {},
   "outputs": [],
   "source": [
    "# LLR > 1, 250 IW samples\n",
    "y_true = np.r_[np.zeros(10000, dtype=np.uint8), np.ones(10000, dtype=np.uint8)]\n",
    "#ood_y_true = np.zeros(10000, dtype=np.uint8)\n",
    "#ood_y_true[np.argwhere((labels == 0.).ravel())] = 1\n",
    "#y_true = np.r_[np.ones(10000, dtype=np.uint8), ood_y_true]\n",
    "y_score = np.r_[indist, ood]\n",
    "fpr, tpr, thres = roc_curve(y_true, y_score)\n",
    "ll_auc = auc(fpr, tpr)\n",
    "\n",
    "plt.plot(fpr, tpr, c='darkorange', label=f'Log-likelihood Ratio AUROC - {round(ll_auc, 4)}')\n",
    "plt.plot([0, 1], [0, 1], linestyle='--')\n",
    "plt.xlim(-0.02, 1.02)\n",
    "plt.ylim(-0.02, 1.02)\n",
    "plt.title('MoL Decoder LLR AUROC Patch Validation Set')\n",
    "plt.legend()"
   ]
  },
  {
   "cell_type": "code",
   "execution_count": null,
   "metadata": {},
   "outputs": [],
   "source": [
    "# OOD examples deemed most OOD\n",
    "top_ood_score_inds = np.argsort(-ood)[:16]\n",
    "top_ood_score_imgs = []\n",
    "\n",
    "for ind in top_ood_score_inds:\n",
    "    top_ood_score_imgs.append(datamodule.val_datasets['MOODPatchesPctileChauhan-1'][ind][0])\n",
    "    \n",
    "fig, axes = plt.subplots(4, 4, figsize=(10, 10))\n",
    "\n",
    "for ax, img, ind in zip(axes.ravel(), top_ood_score_imgs, top_ood_score_inds):\n",
    "    ax.imshow(torch.squeeze(img), cmap='gray')\n",
    "    ax.set_title(f\"{ood[ind]}\")\n",
    "    ax.axis('off')"
   ]
  },
  {
   "cell_type": "code",
   "execution_count": null,
   "metadata": {},
   "outputs": [],
   "source": [
    "# OOD deemed most in-dist\n",
    "bot_ood_score_inds = np.argsort(ood)[:16]\n",
    "bot_ood_score_imgs = []\n",
    "\n",
    "for ind in bot_ood_score_inds:\n",
    "    bot_ood_score_imgs.append(datamodule.val_datasets['MOODPatchesPctileChauhan-1'][ind][0])\n",
    "    \n",
    "fig, axes = plt.subplots(4, 4, figsize=(10, 10))\n",
    "\n",
    "for ax, img, ind in zip(axes.ravel(), bot_ood_score_imgs, bot_ood_score_inds):\n",
    "    ax.imshow(torch.squeeze(img), cmap='gray')\n",
    "    ax.set_title(f\"{ood[ind]}\")\n",
    "    ax.axis('off')"
   ]
  },
  {
   "cell_type": "code",
   "execution_count": null,
   "metadata": {},
   "outputs": [],
   "source": [
    "# In-dist deemed most OOD\n",
    "top_indist_score_inds = np.argsort(-indist)[:16]\n",
    "top_indist_score_imgs = []\n",
    "\n",
    "for ind in top_indist_score_inds:\n",
    "    top_indist_score_imgs.append(datamodule.val_datasets['MOODPatchesPctileChauhan'][ind][0])\n",
    "    \n",
    "fig, axes = plt.subplots(4, 4, figsize=(10, 10))\n",
    "\n",
    "for ax, img, ind in zip(axes.ravel(), top_indist_score_imgs, top_indist_score_inds):\n",
    "    ax.imshow(torch.squeeze(img), cmap='gray')\n",
    "    ax.set_title(f\"{indist[ind]}\")\n",
    "    ax.axis('off')"
   ]
  },
  {
   "cell_type": "code",
   "execution_count": null,
   "metadata": {},
   "outputs": [],
   "source": [
    "# In-dist deemed most indist\n",
    "bot_indist_score_inds = np.argsort(indist)[:16]\n",
    "bot_indist_score_imgs = []\n",
    "\n",
    "for ind in bot_indist_score_inds:\n",
    "    bot_indist_score_imgs.append(datamodule.val_datasets['MOODPatchesPctileChauhan'][ind][0])\n",
    "    \n",
    "fig, axes = plt.subplots(4, 4, figsize=(10, 10))\n",
    "\n",
    "for ax, img, ind in zip(axes.ravel(), bot_indist_score_imgs, bot_indist_score_inds):\n",
    "    ax.imshow(torch.squeeze(img), cmap='gray')\n",
    "    ax.set_title(f\"{indist[ind]}\")\n",
    "    ax.axis('off')"
   ]
  },
  {
   "cell_type": "code",
   "execution_count": null,
   "metadata": {},
   "outputs": [],
   "source": [
    "indist = elbos['MOODPatchesPctileChauhan test']\n",
    "ood = elbos['MNISTPctile test']\n",
    "\n",
    "sns.kdeplot(indist)\n",
    "sns.kdeplot(ood)"
   ]
  },
  {
   "cell_type": "code",
   "execution_count": null,
   "metadata": {},
   "outputs": [],
   "source": [
    "indist = scores['MOODPatchesPctileChauhan test']\n",
    "ood = scores['MNISTPctile test']\n",
    "\n",
    "sns.kdeplot(indist)\n",
    "sns.kdeplot(ood)"
   ]
  },
  {
   "cell_type": "code",
   "execution_count": null,
   "metadata": {},
   "outputs": [],
   "source": [
    "# LLR > 1, 250 IW samples\n",
    "y_true = np.r_[np.zeros(10000, dtype=np.uint8), np.ones(10000, dtype=np.uint8)]\n",
    "#ood_y_true = np.zeros(10000, dtype=np.uint8)\n",
    "#ood_y_true[np.argwhere((labels == 0.).ravel())] = 1\n",
    "#y_true = np.r_[np.ones(10000, dtype=np.uint8), ood_y_true]\n",
    "y_score = np.r_[indist, ood]\n",
    "fpr, tpr, thres = roc_curve(y_true, y_score)\n",
    "ll_auc = auc(fpr, tpr)\n",
    "\n",
    "plt.plot(fpr, tpr, c='darkorange', label=f'Log-likelihood AUCROC - {round(ll_auc, 4)}')\n",
    "plt.plot([0, 1], [0, 1], linestyle='--')\n",
    "plt.xlim(-0.02, 1.02)\n",
    "plt.ylim(-0.02, 1.02)\n",
    "plt.legend()"
   ]
  },
  {
   "cell_type": "code",
   "execution_count": null,
   "metadata": {},
   "outputs": [],
   "source": [
    "indist = elbos['MOODPatchesPctileChauhan test']\n",
    "ood = elbos['FashionMNISTPctile test']\n",
    "\n",
    "sns.kdeplot(indist)\n",
    "sns.kdeplot(ood)"
   ]
  },
  {
   "cell_type": "code",
   "execution_count": null,
   "metadata": {},
   "outputs": [],
   "source": [
    "# LLR > 1, 250 IW samples\n",
    "y_true = np.r_[np.ones(10000, dtype=np.uint8), np.zeros(10000, dtype=np.uint8)]\n",
    "#ood_y_true = np.zeros(10000, dtype=np.uint8)\n",
    "#ood_y_true[np.argwhere((labels == 0.).ravel())] = 1\n",
    "#y_true = np.r_[np.ones(10000, dtype=np.uint8), ood_y_true]\n",
    "y_score = np.r_[indist, ood]\n",
    "fpr, tpr, thres = roc_curve(y_true, y_score)\n",
    "ll_auc = auc(fpr, tpr)\n",
    "\n",
    "plt.plot(fpr, tpr, c='darkorange', label=f'Log-likelihood AUCROC - {round(ll_auc, 4)}')\n",
    "plt.plot([0, 1], [0, 1], linestyle='--')\n",
    "plt.xlim(-0.02, 1.02)\n",
    "plt.ylim(-0.02, 1.02)\n",
    "plt.legend()"
   ]
  },
  {
   "cell_type": "code",
   "execution_count": null,
   "metadata": {},
   "outputs": [],
   "source": [
    "indist = scores['MOODPatchesPctileChauhan test']\n",
    "ood = scores['FashionMNISTPctile test']\n",
    "\n",
    "sns.kdeplot(indist)\n",
    "sns.kdeplot(ood)"
   ]
  },
  {
   "cell_type": "code",
   "execution_count": null,
   "metadata": {},
   "outputs": [],
   "source": [
    "# LLR > 1, 250 IW samples\n",
    "y_true = np.r_[np.zeros(10000, dtype=np.uint8), np.ones(10000, dtype=np.uint8)]\n",
    "#ood_y_true = np.zeros(10000, dtype=np.uint8)\n",
    "#ood_y_true[np.argwhere((labels == 0.).ravel())] = 1\n",
    "#y_true = np.r_[np.ones(10000, dtype=np.uint8), ood_y_true]\n",
    "y_score = np.r_[indist, ood]\n",
    "fpr, tpr, thres = roc_curve(y_true, y_score)\n",
    "ll_auc = auc(fpr, tpr)\n",
    "\n",
    "plt.plot(fpr, tpr, c='darkorange', label=f'Log-likelihood AUCROC - {round(ll_auc, 4)}')\n",
    "plt.plot([0, 1], [0, 1], linestyle='--')\n",
    "plt.xlim(-0.02, 1.02)\n",
    "plt.ylim(-0.02, 1.02)\n",
    "plt.legend()"
   ]
  },
  {
   "cell_type": "code",
   "execution_count": null,
   "metadata": {},
   "outputs": [],
   "source": [
    "to_tens = torchvision.transforms.ToTensor()\n",
    "x = to_tens(np.expand_dims(np.load('/home/derek/mood_patches/raw_brain_patches.npz')['X_train'][0], -1))\n",
    "mx = torch.quantile(x, .95, interpolation='nearest')\n",
    "mn = torch.quantile(x, .05, interpolation='nearest')\n",
    "plt.imshow(np.squeeze(torch.clip(((x - mn) / (mx - mn)), 0., 1.)), cmap='gray')"
   ]
  },
  {
   "cell_type": "code",
   "execution_count": null,
   "metadata": {},
   "outputs": [],
   "source": [
    "plt.imshow(np.squeeze(x), cmap='gray')"
   ]
  },
  {
   "cell_type": "code",
   "execution_count": null,
   "metadata": {},
   "outputs": [],
   "source": [
    "plt.hist(oodd.datasets.MOODPatchesPctileChauhan(split='train')[0][0].ravel())"
   ]
  },
  {
   "cell_type": "code",
   "execution_count": null,
   "metadata": {},
   "outputs": [],
   "source": [
    "scores = torch.load('results/values-scores-FashionMNIST-test-k2-iw_elbo1-iw_lK1.pt')\n",
    "fmnist = scores['FashionMNIST test']\n",
    "mnist = scores['MNIST test']"
   ]
  },
  {
   "cell_type": "code",
   "execution_count": null,
   "metadata": {},
   "outputs": [],
   "source": [
    "sns.kdeplot(fmnist)\n",
    "sns.kdeplot(mnist)"
   ]
  },
  {
   "cell_type": "code",
   "execution_count": null,
   "metadata": {},
   "outputs": [],
   "source": [
    "batch_size = 128\n",
    "datamodule = oodd.datasets.DataModule(\n",
    "        batch_size=batch_size,\n",
    "        test_batch_size=250,\n",
    "        data_workers=4,\n",
    "        train_datasets= {\"MOODPatchesPctileChauhan\": {\"split\": \"train\"}},\n",
    "        val_datasets={\"MOODPatchesPctileChauhan\": {\"split\": \"validation\", \"toy\": 'true'}},\n",
    "        test_datasets={},\n",
    ")"
   ]
  },
  {
   "cell_type": "code",
   "execution_count": null,
   "metadata": {},
   "outputs": [],
   "source": [
    "for name, l in datamodule.val_loaders.items():\n",
    "    loader = l "
   ]
  },
  {
   "cell_type": "code",
   "execution_count": null,
   "metadata": {},
   "outputs": [],
   "source": [
    "images = []\n",
    "labels = []\n",
    "for x, y in iter(loader):\n",
    "    images.append(x)\n",
    "    labels.append(y)\n",
    "labels = torch.cat(labels, 0)\n",
    "images = torch.cat(images, 0)"
   ]
  },
  {
   "cell_type": "code",
   "execution_count": null,
   "metadata": {},
   "outputs": [],
   "source": [
    "scores = torch.load('results/values-scores-MOODPatchesPctileChauh-test-k2-iw_elbo250-iw_lK250.pt')\n",
    "\n",
    "indist = scores['MOODPatchesPctileChauhan test']\n",
    "ood = scores['MOODPatchesPctileChauhan-1 test']\n",
    "#ood_toy_0 = np.array(ood)[np.argwhere((labels == 0.).ravel())].ravel()\n",
    "#ood_anom_toy = np.array(ood)[np.argwhere((labels != 0.).ravel())].ravel()\n",
    "\n",
    "sns.kdeplot(indist)\n",
    "sns.kdeplot(ood)\n",
    "#sns.kdeplot(ood_toy_0, color='purple')\n",
    "#sns.kdeplot(ood_anom_toy, color='green')"
   ]
  },
  {
   "cell_type": "code",
   "execution_count": null,
   "metadata": {
    "scrolled": true
   },
   "outputs": [],
   "source": [
    "anom_images = images[labels == 1]\n",
    "indist_images = images[labels != 1]\n",
    "plt.scatter(anom_images.std(dim=(1, 2)), ood_anom_toy)\n",
    "plt.scatter(anom_images.std(dim=(1, 2)), ood_anom_toy)"
   ]
  },
  {
   "cell_type": "code",
   "execution_count": null,
   "metadata": {},
   "outputs": [],
   "source": [
    "plt.scatter(images.std(dim=(1, 2, 3)), ood)"
   ]
  },
  {
   "cell_type": "code",
   "execution_count": null,
   "metadata": {},
   "outputs": [],
   "source": [
    "images.std(dim=(1, 2, 3))"
   ]
  },
  {
   "cell_type": "code",
   "execution_count": null,
   "metadata": {},
   "outputs": [],
   "source": [
    "# LLR > 2, 250 IW samples\n",
    "y_true = np.r_[np.zeros(10000, dtype=np.uint8), np.ones(10000, dtype=np.uint8)]\n",
    "#ood_y_true = np.zeros(10000, dtype=np.uint8)\n",
    "#ood_y_true[np.argwhere((labels == 0.).ravel())] = 1\n",
    "#y_true = np.r_[np.ones(10000, dtype=np.uint8), ood_y_true]\n",
    "#y_score = np.r_[indist, ood_anom_toy]\n",
    "y_score = np.r_[indist, ood]\n",
    "fpr, tpr, thres = roc_curve(y_true, y_score)\n",
    "ll_auc = auc(fpr, tpr)\n",
    "\n",
    "plt.plot(fpr, tpr, c='darkorange', label=f'Log-likelihood AUCROC - {round(ll_auc, 4)}')\n",
    "plt.plot([0, 1], [0, 1], linestyle='--')\n",
    "plt.xlim(-0.02, 1.02)\n",
    "plt.ylim(-0.02, 1.02)\n",
    "plt.legend()"
   ]
  },
  {
   "cell_type": "code",
   "execution_count": null,
   "metadata": {},
   "outputs": [],
   "source": [
    "elbos = torch.load('results/values-elbos_k-MOODPatchesPctileChauh-test-k2-iw_elbo250-iw_lK1.pt')\n",
    "indist = elbos['MOODPatchesPctileChauhan test']\n",
    "ood = elbos['MOODPatchesPctileChauhan-1 test']\n",
    "\n",
    "sns.kdeplot(indist)\n",
    "sns.kdeplot(ood)"
   ]
  }
 ],
 "metadata": {
  "kernelspec": {
   "display_name": "Python 3",
   "language": "python",
   "name": "python3"
  },
  "language_info": {
   "codemirror_mode": {
    "name": "ipython",
    "version": 3
   },
   "file_extension": ".py",
   "mimetype": "text/x-python",
   "name": "python",
   "nbconvert_exporter": "python",
   "pygments_lexer": "ipython3",
   "version": "3.8.10"
  }
 },
 "nbformat": 4,
 "nbformat_minor": 4
}
